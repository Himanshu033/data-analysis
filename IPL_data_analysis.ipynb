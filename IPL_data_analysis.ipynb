{
  "nbformat": 4,
  "nbformat_minor": 0,
  "metadata": {
    "colab": {
      "name": "IPL_data_analysis.ipynb",
      "provenance": [],
      "collapsed_sections": [
        "_zfLH6koOUpa"
      ],
      "include_colab_link": true
    },
    "kernelspec": {
      "display_name": "Python 3",
      "language": "python",
      "name": "python3"
    },
    "language_info": {
      "codemirror_mode": {
        "name": "ipython",
        "version": 3
      },
      "file_extension": ".py",
      "mimetype": "text/x-python",
      "name": "python",
      "nbconvert_exporter": "python",
      "pygments_lexer": "ipython3",
      "version": "3.8.8"
    }
  },
  "cells": [
    {
      "cell_type": "markdown",
      "metadata": {
        "id": "view-in-github",
        "colab_type": "text"
      },
      "source": [
        "<a href=\"https://colab.research.google.com/github/Himanshu033/data-analysis/blob/main/IPL_data_analysis.ipynb\" target=\"_parent\"><img src=\"https://colab.research.google.com/assets/colab-badge.svg\" alt=\"Open In Colab\"/></a>"
      ]
    },
    {
      "cell_type": "markdown",
      "metadata": {
        "id": "_zfLH6koOUpa"
      },
      "source": [
        "# **EDA on IPL Dataset**"
      ]
    },
    {
      "cell_type": "markdown",
      "metadata": {
        "id": "Jnoio_RPOcMp"
      },
      "source": [
        "**Importing libraries**"
      ]
    },
    {
      "cell_type": "code",
      "metadata": {
        "id": "-Qi3GLYcAQSt"
      },
      "source": [
        "import pandas as pd\n",
        "import numpy as np\n",
        "import matplotlib.pyplot as plt\n",
        "import seaborn as sns\n",
        "%matplotlib inline"
      ],
      "execution_count": 3,
      "outputs": []
    },
    {
      "cell_type": "markdown",
      "metadata": {
        "id": "K4rjUyH8ltfb"
      },
      "source": [
        "**Importing IPL dataset**"
      ]
    },
    {
      "cell_type": "code",
      "metadata": {
        "id": "Pl4UsxCB1Gxn",
        "colab": {
          "base_uri": "https://localhost:8080/"
        },
        "outputId": "9f937e06-772d-4a1b-890f-a5dfa5ff0132"
      },
      "source": [
        "from google.colab import drive\n",
        "drive.mount('/content/drive')"
      ],
      "execution_count": 1,
      "outputs": [
        {
          "output_type": "stream",
          "name": "stdout",
          "text": [
            "Mounted at /content/drive\n"
          ]
        }
      ]
    },
    {
      "cell_type": "code",
      "metadata": {
        "id": "rHc1s7t_ASwd",
        "colab": {
          "base_uri": "https://localhost:8080/",
          "height": 442
        },
        "outputId": "1444dc0b-4c89-4d93-c781-28bcba1f94dc"
      },
      "source": [
        "data=pd.read_csv('/content/drive/MyDrive/Studypack/matches.csv.xls')\n",
        "data.head(5)"
      ],
      "execution_count": 9,
      "outputs": [
        {
          "output_type": "execute_result",
          "data": {
            "text/html": [
              "<div>\n",
              "<style scoped>\n",
              "    .dataframe tbody tr th:only-of-type {\n",
              "        vertical-align: middle;\n",
              "    }\n",
              "\n",
              "    .dataframe tbody tr th {\n",
              "        vertical-align: top;\n",
              "    }\n",
              "\n",
              "    .dataframe thead th {\n",
              "        text-align: right;\n",
              "    }\n",
              "</style>\n",
              "<table border=\"1\" class=\"dataframe\">\n",
              "  <thead>\n",
              "    <tr style=\"text-align: right;\">\n",
              "      <th></th>\n",
              "      <th>id</th>\n",
              "      <th>Season</th>\n",
              "      <th>city</th>\n",
              "      <th>date</th>\n",
              "      <th>team1</th>\n",
              "      <th>team2</th>\n",
              "      <th>toss_winner</th>\n",
              "      <th>toss_decision</th>\n",
              "      <th>result</th>\n",
              "      <th>dl_applied</th>\n",
              "      <th>winner</th>\n",
              "      <th>win_by_runs</th>\n",
              "      <th>win_by_wickets</th>\n",
              "      <th>player_of_match</th>\n",
              "      <th>venue</th>\n",
              "      <th>umpire1</th>\n",
              "      <th>umpire2</th>\n",
              "      <th>umpire3</th>\n",
              "    </tr>\n",
              "  </thead>\n",
              "  <tbody>\n",
              "    <tr>\n",
              "      <th>0</th>\n",
              "      <td>1</td>\n",
              "      <td>IPL-2017</td>\n",
              "      <td>Hyderabad</td>\n",
              "      <td>05-04-2017</td>\n",
              "      <td>Sunrisers Hyderabad</td>\n",
              "      <td>Royal Challengers Bangalore</td>\n",
              "      <td>Royal Challengers Bangalore</td>\n",
              "      <td>field</td>\n",
              "      <td>normal</td>\n",
              "      <td>0</td>\n",
              "      <td>Sunrisers Hyderabad</td>\n",
              "      <td>35</td>\n",
              "      <td>0</td>\n",
              "      <td>Yuvraj Singh</td>\n",
              "      <td>Rajiv Gandhi International Stadium, Uppal</td>\n",
              "      <td>AY Dandekar</td>\n",
              "      <td>NJ Llong</td>\n",
              "      <td>NaN</td>\n",
              "    </tr>\n",
              "    <tr>\n",
              "      <th>1</th>\n",
              "      <td>2</td>\n",
              "      <td>IPL-2017</td>\n",
              "      <td>Pune</td>\n",
              "      <td>06-04-2017</td>\n",
              "      <td>Mumbai Indians</td>\n",
              "      <td>Rising Pune Supergiant</td>\n",
              "      <td>Rising Pune Supergiant</td>\n",
              "      <td>field</td>\n",
              "      <td>normal</td>\n",
              "      <td>0</td>\n",
              "      <td>Rising Pune Supergiant</td>\n",
              "      <td>0</td>\n",
              "      <td>7</td>\n",
              "      <td>SPD Smith</td>\n",
              "      <td>Maharashtra Cricket Association Stadium</td>\n",
              "      <td>A Nand Kishore</td>\n",
              "      <td>S Ravi</td>\n",
              "      <td>NaN</td>\n",
              "    </tr>\n",
              "    <tr>\n",
              "      <th>2</th>\n",
              "      <td>3</td>\n",
              "      <td>IPL-2017</td>\n",
              "      <td>Rajkot</td>\n",
              "      <td>07-04-2017</td>\n",
              "      <td>Gujarat Lions</td>\n",
              "      <td>Kolkata Knight Riders</td>\n",
              "      <td>Kolkata Knight Riders</td>\n",
              "      <td>field</td>\n",
              "      <td>normal</td>\n",
              "      <td>0</td>\n",
              "      <td>Kolkata Knight Riders</td>\n",
              "      <td>0</td>\n",
              "      <td>10</td>\n",
              "      <td>CA Lynn</td>\n",
              "      <td>Saurashtra Cricket Association Stadium</td>\n",
              "      <td>Nitin Menon</td>\n",
              "      <td>CK Nandan</td>\n",
              "      <td>NaN</td>\n",
              "    </tr>\n",
              "    <tr>\n",
              "      <th>3</th>\n",
              "      <td>4</td>\n",
              "      <td>IPL-2017</td>\n",
              "      <td>Indore</td>\n",
              "      <td>08-04-2017</td>\n",
              "      <td>Rising Pune Supergiant</td>\n",
              "      <td>Kings XI Punjab</td>\n",
              "      <td>Kings XI Punjab</td>\n",
              "      <td>field</td>\n",
              "      <td>normal</td>\n",
              "      <td>0</td>\n",
              "      <td>Kings XI Punjab</td>\n",
              "      <td>0</td>\n",
              "      <td>6</td>\n",
              "      <td>GJ Maxwell</td>\n",
              "      <td>Holkar Cricket Stadium</td>\n",
              "      <td>AK Chaudhary</td>\n",
              "      <td>C Shamshuddin</td>\n",
              "      <td>NaN</td>\n",
              "    </tr>\n",
              "    <tr>\n",
              "      <th>4</th>\n",
              "      <td>5</td>\n",
              "      <td>IPL-2017</td>\n",
              "      <td>Bangalore</td>\n",
              "      <td>08-04-2017</td>\n",
              "      <td>Royal Challengers Bangalore</td>\n",
              "      <td>Delhi Daredevils</td>\n",
              "      <td>Royal Challengers Bangalore</td>\n",
              "      <td>bat</td>\n",
              "      <td>normal</td>\n",
              "      <td>0</td>\n",
              "      <td>Royal Challengers Bangalore</td>\n",
              "      <td>15</td>\n",
              "      <td>0</td>\n",
              "      <td>KM Jadhav</td>\n",
              "      <td>M Chinnaswamy Stadium</td>\n",
              "      <td>NaN</td>\n",
              "      <td>NaN</td>\n",
              "      <td>NaN</td>\n",
              "    </tr>\n",
              "  </tbody>\n",
              "</table>\n",
              "</div>"
            ],
            "text/plain": [
              "   id    Season       city  ...         umpire1        umpire2 umpire3\n",
              "0   1  IPL-2017  Hyderabad  ...     AY Dandekar       NJ Llong     NaN\n",
              "1   2  IPL-2017       Pune  ...  A Nand Kishore         S Ravi     NaN\n",
              "2   3  IPL-2017     Rajkot  ...     Nitin Menon      CK Nandan     NaN\n",
              "3   4  IPL-2017     Indore  ...    AK Chaudhary  C Shamshuddin     NaN\n",
              "4   5  IPL-2017  Bangalore  ...             NaN            NaN     NaN\n",
              "\n",
              "[5 rows x 18 columns]"
            ]
          },
          "metadata": {},
          "execution_count": 9
        }
      ]
    },
    {
      "cell_type": "markdown",
      "metadata": {
        "id": "wToeqrVWlw5C"
      },
      "source": [
        "**How big is the dataset? (Rows and columns)**"
      ]
    },
    {
      "cell_type": "code",
      "metadata": {
        "id": "STh-IfaGAbL0",
        "colab": {
          "base_uri": "https://localhost:8080/"
        },
        "outputId": "a03981b8-fc39-47e4-c9de-91c2544a61ac"
      },
      "source": [
        "data.shape"
      ],
      "execution_count": 10,
      "outputs": [
        {
          "output_type": "execute_result",
          "data": {
            "text/plain": [
              "(756, 18)"
            ]
          },
          "metadata": {},
          "execution_count": 10
        }
      ]
    },
    {
      "cell_type": "code",
      "metadata": {
        "id": "SVOdqTeAAe5u"
      },
      "source": [
        "data.info"
      ],
      "execution_count": null,
      "outputs": []
    },
    {
      "cell_type": "markdown",
      "metadata": {
        "id": "aDmra-mPl2T7"
      },
      "source": [
        "**Data Pre-processing: Finding out NaN values**"
      ]
    },
    {
      "cell_type": "code",
      "metadata": {
        "id": "R2ZnDchwAhFz"
      },
      "source": [
        "data.isna().any()"
      ],
      "execution_count": null,
      "outputs": []
    },
    {
      "cell_type": "markdown",
      "metadata": {
        "id": "BVYb8Kv-O2eH"
      },
      "source": [
        "**Statistical Description of dataset**"
      ]
    },
    {
      "cell_type": "code",
      "metadata": {
        "id": "QBMBEJZLAj46"
      },
      "source": [
        "data.describe()"
      ],
      "execution_count": null,
      "outputs": []
    },
    {
      "cell_type": "markdown",
      "metadata": {
        "id": "kyOE9s0Kl6dp"
      },
      "source": [
        "**How many matches (in total) were played according to the dataset?**"
      ]
    },
    {
      "cell_type": "code",
      "metadata": {
        "id": "4rkt6Uu9AoC9",
        "colab": {
          "base_uri": "https://localhost:8080/"
        },
        "outputId": "4f2c9d0d-c5a9-4355-c8f4-e438d6131b57"
      },
      "source": [
        "data['id'].count()"
      ],
      "execution_count": 14,
      "outputs": [
        {
          "output_type": "execute_result",
          "data": {
            "text/plain": [
              "756"
            ]
          },
          "metadata": {},
          "execution_count": 14
        }
      ]
    },
    {
      "cell_type": "markdown",
      "metadata": {
        "id": "6MpaXFjWl9JN"
      },
      "source": [
        "**How many IPL seasons are we using to analyse?**"
      ]
    },
    {
      "cell_type": "code",
      "metadata": {
        "id": "ob_BJybJBAHN"
      },
      "source": [
        "data['Season'].unique()"
      ],
      "execution_count": null,
      "outputs": []
    },
    {
      "cell_type": "markdown",
      "metadata": {
        "id": "VSddMA2OmAgG"
      },
      "source": [
        "**Which IPL team won by scoring the maximum runs?**"
      ]
    },
    {
      "cell_type": "code",
      "metadata": {
        "id": "t-l4GNoDBRa4",
        "colab": {
          "base_uri": "https://localhost:8080/"
        },
        "outputId": "6ab80e32-f783-4c98-faba-339d27926359"
      },
      "source": [
        "data.iloc[data['win_by_runs'].idxmax()]"
      ],
      "execution_count": 11,
      "outputs": [
        {
          "output_type": "execute_result",
          "data": {
            "text/plain": [
              "id                               44\n",
              "Season                     IPL-2017\n",
              "city                          Delhi\n",
              "date                     06-05-2017\n",
              "team1                Mumbai Indians\n",
              "team2              Delhi Daredevils\n",
              "toss_winner        Delhi Daredevils\n",
              "toss_decision                 field\n",
              "result                       normal\n",
              "dl_applied                        0\n",
              "winner               Mumbai Indians\n",
              "win_by_runs                     146\n",
              "win_by_wickets                    0\n",
              "player_of_match         LMP Simmons\n",
              "venue              Feroz Shah Kotla\n",
              "umpire1                 Nitin Menon\n",
              "umpire2                   CK Nandan\n",
              "umpire3                         NaN\n",
              "Name: 43, dtype: object"
            ]
          },
          "metadata": {},
          "execution_count": 11
        }
      ]
    },
    {
      "cell_type": "markdown",
      "metadata": {
        "id": "q2or1qahmI7o"
      },
      "source": [
        "**Which IPL team won by consuming maximum wickets?**\n"
      ]
    },
    {
      "cell_type": "code",
      "metadata": {
        "id": "hnDQ_E6qCQi3",
        "colab": {
          "base_uri": "https://localhost:8080/"
        },
        "outputId": "ef491d94-b3e0-4212-d696-ed03fe4901f8"
      },
      "source": [
        "data.iloc[data['win_by_wickets'].idxmax()]"
      ],
      "execution_count": 13,
      "outputs": [
        {
          "output_type": "execute_result",
          "data": {
            "text/plain": [
              "id                                                      3\n",
              "Season                                           IPL-2017\n",
              "city                                               Rajkot\n",
              "date                                           07-04-2017\n",
              "team1                                       Gujarat Lions\n",
              "team2                               Kolkata Knight Riders\n",
              "toss_winner                         Kolkata Knight Riders\n",
              "toss_decision                                       field\n",
              "result                                             normal\n",
              "dl_applied                                              0\n",
              "winner                              Kolkata Knight Riders\n",
              "win_by_runs                                             0\n",
              "win_by_wickets                                         10\n",
              "player_of_match                                   CA Lynn\n",
              "venue              Saurashtra Cricket Association Stadium\n",
              "umpire1                                       Nitin Menon\n",
              "umpire2                                         CK Nandan\n",
              "umpire3                                               NaN\n",
              "Name: 2, dtype: object"
            ]
          },
          "metadata": {},
          "execution_count": 13
        }
      ]
    },
    {
      "cell_type": "markdown",
      "metadata": {
        "id": "R66Xifm7QO34"
      },
      "source": [
        "**Which IPL team won by taking minimum wickets?**\n"
      ]
    },
    {
      "cell_type": "code",
      "metadata": {
        "id": "KryDLMs3P-pH"
      },
      "source": [
        "data.iloc[data['win_by_wickets'].idxmin()]"
      ],
      "execution_count": null,
      "outputs": []
    },
    {
      "cell_type": "markdown",
      "metadata": {
        "id": "hHB8ZcmVmPOp"
      },
      "source": [
        "**Which season consisted of the highest number of matches ever played?**"
      ]
    },
    {
      "cell_type": "code",
      "metadata": {
        "id": "ePMr2SKECBxe",
        "colab": {
          "base_uri": "https://localhost:8080/",
          "height": 279
        },
        "outputId": "441a6597-f5e8-4a57-9459-5e9da7d206d3"
      },
      "source": [
        "fig_dims = (20, 4)\n",
        "fig, ax = plt.subplots(figsize=fig_dims)\n",
        "sns.countplot(x='Season', ax=ax,data=data)\n",
        "plt.show()"
      ],
      "execution_count": 12,
      "outputs": [
        {
          "output_type": "display_data",
          "data": {
            "image/png": "[encoded data removed]",
            "text/plain": [
              "<Figure size 1440x288 with 1 Axes>"
            ]
          },
          "metadata": {
            "needs_background": "light"
          }
        }
      ]
    },
    {
      "cell_type": "markdown",
      "metadata": {
        "id": "7peS69c4ma8i"
      },
      "source": [
        "**Which is the most successful IPL team with all the data at hand?**"
      ]
    },
    {
      "cell_type": "code",
      "metadata": {
        "id": "WlJtoQwEDght"
      },
      "source": [
        "data1 = data.winner.value_counts()\n",
        "sns.barplot(y = data1.index, x = data1)"
      ],
      "execution_count": null,
      "outputs": []
    },
    {
      "cell_type": "markdown",
      "metadata": {
        "id": "ARp-eZYommux"
      },
      "source": [
        "**What is the probability of winning a match if the toss was won?**"
      ]
    },
    {
      "cell_type": "code",
      "metadata": {
        "id": "YyLJQnpliAnB"
      },
      "source": [
        "probability_of_win = data['toss_winner'] == data['winner']\n",
        "\n",
        "probability_of_win.groupby(probability_of_win).size()"
      ],
      "execution_count": null,
      "outputs": []
    },
    {
      "cell_type": "code",
      "metadata": {
        "id": "GiQ3zNFBiXEB"
      },
      "source": [
        "sns.countplot(probability_of_win)"
      ],
      "execution_count": null,
      "outputs": []
    },
    {
      "cell_type": "markdown",
      "metadata": {
        "id": "cJtZAMQlNoId"
      },
      "source": [
        "**Setting a higher row width**"
      ]
    },
    {
      "cell_type": "code",
      "metadata": {
        "id": "E_DjdI37NZK9"
      },
      "source": [
        "pd.set_option('max_rows', 99999)\n",
        "pd.set_option('max_colwidth', 400)\n",
        "pd.describe_option('max_colwidth')"
      ],
      "execution_count": null,
      "outputs": []
    },
    {
      "cell_type": "markdown",
      "metadata": {
        "id": "JB04B7MqkLxo"
      },
      "source": [
        "**Highest wins by teams per season**"
      ]
    },
    {
      "cell_type": "code",
      "metadata": {
        "id": "w_bV1Dn-jMfH"
      },
      "source": [
        "data.groupby('Season')['winner'].value_counts()"
      ],
      "execution_count": null,
      "outputs": []
    },
    {
      "cell_type": "code",
      "metadata": {
        "id": "IpWs9k-Ukspw"
      },
      "source": [
        "data['toss_decision'].value_counts()"
      ],
      "execution_count": null,
      "outputs": []
    },
    {
      "cell_type": "markdown",
      "metadata": {
        "id": "6bOJue9ITSq4"
      },
      "source": [
        "**Man of the match - Highest to lowest (in won matches)**"
      ]
    },
    {
      "cell_type": "code",
      "metadata": {
        "id": "DHgFoju4k5PU"
      },
      "source": [
        "data['player_of_match'].value_counts()"
      ],
      "execution_count": null,
      "outputs": []
    },
    {
      "cell_type": "markdown",
      "metadata": {
        "id": "H9Jy2KqTTeDv"
      },
      "source": [
        "**In which city were the number of matches played?**"
      ]
    },
    {
      "cell_type": "code",
      "metadata": {
        "id": "P6NnwPxXlVVD"
      },
      "source": [
        "data['city'].value_counts()"
      ],
      "execution_count": null,
      "outputs": []
    },
    {
      "cell_type": "markdown",
      "metadata": {
        "id": "cFPVyQeBTiWn"
      },
      "source": [
        "\n",
        "\n",
        "---\n",
        "\n"
      ]
    }
  ]
}